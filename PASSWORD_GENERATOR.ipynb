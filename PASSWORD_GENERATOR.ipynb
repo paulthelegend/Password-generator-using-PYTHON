{
 "cells": [
  {
   "cell_type": "markdown",
   "id": "dca09eaa",
   "metadata": {},
   "source": [
    "# PASSWORD GENERATOR"
   ]
  },
  {
   "cell_type": "code",
   "execution_count": 8,
   "id": "5a6cf6dc",
   "metadata": {},
   "outputs": [
    {
     "name": "stdout",
     "output_type": "stream",
     "text": [
      "Enter the length of the password: 10\n",
      "Generated Password: Z0sV\\pgb|J\n"
     ]
    }
   ],
   "source": [
    "import random      # basic password generator\n",
    "import string\n",
    "\n",
    "def generate_the_password(length):\n",
    "    characters = string.ascii_letters + string.digits + string.punctuation\n",
    "    password = ''.join(random.choice(characters) for _ in range(length))\n",
    "    return password\n",
    "\n",
    "if __name__ == \"__main__\":\n",
    "    password_length = int(input(\"Enter the length of the password: \"))\n",
    "    generated_password = generate_password(password_length)\n",
    "    print(\"Generated Password:\", generated_password)"
   ]
  }
 ],
 "metadata": {
  "kernelspec": {
   "display_name": "Python 3 (ipykernel)",
   "language": "python",
   "name": "python3"
  },
  "language_info": {
   "codemirror_mode": {
    "name": "ipython",
    "version": 3
   },
   "file_extension": ".py",
   "mimetype": "text/x-python",
   "name": "python",
   "nbconvert_exporter": "python",
   "pygments_lexer": "ipython3",
   "version": "3.11.5"
  }
 },
 "nbformat": 4,
 "nbformat_minor": 5
}
